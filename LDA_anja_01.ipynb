{
 "cells": [
  {
   "cell_type": "code",
   "execution_count": 1,
   "metadata": {},
   "outputs": [],
   "source": [
    "# Imports\n",
    "import pandas as pd\n",
    "import numpy as np\n",
    "import seaborn as sns\n",
    "import matplotlib.pyplot as plt\n",
    "import re\n",
    "\n",
    "from wordcloud import WordCloud\n",
    "\n",
    "import gensim\n",
    "from gensim.utils import simple_preprocess\n",
    "import gensim.corpora as corpora\n",
    "\n",
    "import nltk\n",
    "from nltk.corpus import stopwords\n",
    "\n",
    "from pprint import pprint\n",
    "\n",
    "from sklearn.decomposition import PCA\n",
    "from sklearn.feature_extraction.text import TfidfVectorizer\n",
    "from sklearn.cluster import KMeans\n",
    "from sklearn.model_selection import train_test_split\n",
    "from sklearn.neighbors import KNeighborsClassifier\n",
    "from sklearn.preprocessing import LabelEncoder\n",
    "from sklearn.svm import SVC\n",
    "from sklearn.ensemble import RandomForestClassifier\n"
   ]
  },
  {
   "cell_type": "code",
   "execution_count": 2,
   "metadata": {},
   "outputs": [],
   "source": [
    "#Samaras Laptop\n",
    "#song_data = pd.read_csv('C:\\\\Users\\sdo\\Studienarbeit\\DIE_DATEN\\datensatz.csv')\n",
    "#song_data = song_data[(song_data['Language'] == 'en')]\n",
    "#song_data.to_csv(\"outData.csv\", index=False)\n",
    "#song_data = pd.read_csv('C:\\\\Users\\sdo\\Studienarbeit\\outData.csv')\n",
    "\n",
    "\n",
    "#Anjas Laptop\n",
    "# song_data = pd.read_csv('../Daten/train.csv')\n",
    "# song_data = song_data[(song_data['Language'] == 'en')]\n",
    "# song_data.to_csv(\"../Daten/outData.csv\", index=False)\n",
    "song_data = pd.read_csv('../Daten/outData.csv')"
   ]
  },
  {
   "cell_type": "markdown",
   "metadata": {},
   "source": [
    "## Get a balanced sample of 5 songs per genre"
   ]
  },
  {
   "cell_type": "code",
   "execution_count": 3,
   "metadata": {},
   "outputs": [],
   "source": [
    "num_genres = song_data.Genre.nunique()"
   ]
  },
  {
   "cell_type": "code",
   "execution_count": 4,
   "metadata": {},
   "outputs": [
    {
     "data": {
      "text/html": [
       "<div>\n",
       "<style scoped>\n",
       "    .dataframe tbody tr th:only-of-type {\n",
       "        vertical-align: middle;\n",
       "    }\n",
       "\n",
       "    .dataframe tbody tr th {\n",
       "        vertical-align: top;\n",
       "    }\n",
       "\n",
       "    .dataframe thead th {\n",
       "        text-align: right;\n",
       "    }\n",
       "</style>\n",
       "<table border=\"1\" class=\"dataframe\">\n",
       "  <thead>\n",
       "    <tr style=\"text-align: right;\">\n",
       "      <th></th>\n",
       "      <th>Genre</th>\n",
       "      <th>Lyrics</th>\n",
       "    </tr>\n",
       "  </thead>\n",
       "  <tbody>\n",
       "    <tr>\n",
       "      <th>245316</th>\n",
       "      <td>Country</td>\n",
       "      <td>She took my love, She wore it down And it look...</td>\n",
       "    </tr>\n",
       "    <tr>\n",
       "      <th>232124</th>\n",
       "      <td>Country</td>\n",
       "      <td>Everybody I know is a looking for love but the...</td>\n",
       "    </tr>\n",
       "    <tr>\n",
       "      <th>242655</th>\n",
       "      <td>Country</td>\n",
       "      <td>Well if I had a dollar for every time you let ...</td>\n",
       "    </tr>\n",
       "    <tr>\n",
       "      <th>246070</th>\n",
       "      <td>Country</td>\n",
       "      <td>You got out with no bruises or scratches You b...</td>\n",
       "    </tr>\n",
       "    <tr>\n",
       "      <th>238838</th>\n",
       "      <td>Country</td>\n",
       "      <td>(Chalee Tennison/Dale Dodson/Billy Lawson) Her...</td>\n",
       "    </tr>\n",
       "    <tr>\n",
       "      <th>...</th>\n",
       "      <td>...</td>\n",
       "      <td>...</td>\n",
       "    </tr>\n",
       "    <tr>\n",
       "      <th>30632</th>\n",
       "      <td>Rock</td>\n",
       "      <td>take,\\ntake all you need\\nand I'll compensate ...</td>\n",
       "    </tr>\n",
       "    <tr>\n",
       "      <th>37928</th>\n",
       "      <td>Rock</td>\n",
       "      <td>What a dream I had\\nPressed in organdy\\nClothe...</td>\n",
       "    </tr>\n",
       "    <tr>\n",
       "      <th>233982</th>\n",
       "      <td>Rock</td>\n",
       "      <td>This is only a test One,two, whatcha gunna do ...</td>\n",
       "    </tr>\n",
       "    <tr>\n",
       "      <th>52404</th>\n",
       "      <td>Rock</td>\n",
       "      <td>We old ones, have seen two wars\\nWhen you're s...</td>\n",
       "    </tr>\n",
       "    <tr>\n",
       "      <th>216014</th>\n",
       "      <td>Rock</td>\n",
       "      <td>Let me tell you a story\\nIt's about you and me...</td>\n",
       "    </tr>\n",
       "  </tbody>\n",
       "</table>\n",
       "<p>500 rows × 2 columns</p>\n",
       "</div>"
      ],
      "text/plain": [
       "          Genre                                             Lyrics\n",
       "245316  Country  She took my love, She wore it down And it look...\n",
       "232124  Country  Everybody I know is a looking for love but the...\n",
       "242655  Country  Well if I had a dollar for every time you let ...\n",
       "246070  Country  You got out with no bruises or scratches You b...\n",
       "238838  Country  (Chalee Tennison/Dale Dodson/Billy Lawson) Her...\n",
       "...         ...                                                ...\n",
       "30632      Rock  take,\\ntake all you need\\nand I'll compensate ...\n",
       "37928      Rock  What a dream I had\\nPressed in organdy\\nClothe...\n",
       "233982     Rock  This is only a test One,two, whatcha gunna do ...\n",
       "52404      Rock  We old ones, have seen two wars\\nWhen you're s...\n",
       "216014     Rock  Let me tell you a story\\nIt's about you and me...\n",
       "\n",
       "[500 rows x 2 columns]"
      ]
     },
     "execution_count": 4,
     "metadata": {},
     "output_type": "execute_result"
    }
   ],
   "source": [
    "song_data = song_data[[\"Genre\", \"Lyrics\"]]\n",
    "song_data = song_data.groupby('Genre').sample(50)\n",
    "song_data"
   ]
  },
  {
   "cell_type": "markdown",
   "metadata": {},
   "source": [
    "## Remove punctuation/lower casing"
   ]
  },
  {
   "cell_type": "code",
   "execution_count": 5,
   "metadata": {},
   "outputs": [],
   "source": [
    "song_data_processed = song_data.copy()\n",
    "song_data_processed['Lyrics'] = song_data_processed['Lyrics'].map(lambda x: re.sub('[,\\.!?]', '', x))\n",
    "song_data_processed['Lyrics'] = song_data_processed['Lyrics'].map(lambda x: x.lower())"
   ]
  },
  {
   "cell_type": "markdown",
   "metadata": {},
   "source": [
    "## Remove stopwords and Tokenize"
   ]
  },
  {
   "cell_type": "code",
   "execution_count": 6,
   "metadata": {},
   "outputs": [
    {
     "name": "stderr",
     "output_type": "stream",
     "text": [
      "[nltk_data] Downloading package stopwords to\n",
      "[nltk_data]     C:\\Users\\anjan\\AppData\\Roaming\\nltk_data...\n",
      "[nltk_data]   Package stopwords is already up-to-date!\n"
     ]
    },
    {
     "data": {
      "text/plain": [
       "True"
      ]
     },
     "execution_count": 6,
     "metadata": {},
     "output_type": "execute_result"
    }
   ],
   "source": [
    "nltk.download('stopwords')"
   ]
  },
  {
   "cell_type": "code",
   "execution_count": 7,
   "metadata": {},
   "outputs": [],
   "source": [
    "stop_words = stopwords.words('english')"
   ]
  },
  {
   "cell_type": "code",
   "execution_count": 8,
   "metadata": {},
   "outputs": [
    {
     "data": {
      "text/html": [
       "<div>\n",
       "<style scoped>\n",
       "    .dataframe tbody tr th:only-of-type {\n",
       "        vertical-align: middle;\n",
       "    }\n",
       "\n",
       "    .dataframe tbody tr th {\n",
       "        vertical-align: top;\n",
       "    }\n",
       "\n",
       "    .dataframe thead th {\n",
       "        text-align: right;\n",
       "    }\n",
       "</style>\n",
       "<table border=\"1\" class=\"dataframe\">\n",
       "  <thead>\n",
       "    <tr style=\"text-align: right;\">\n",
       "      <th></th>\n",
       "      <th>Genre</th>\n",
       "      <th>Lyrics</th>\n",
       "      <th>Tokens</th>\n",
       "    </tr>\n",
       "  </thead>\n",
       "  <tbody>\n",
       "    <tr>\n",
       "      <th>245316</th>\n",
       "      <td>Country</td>\n",
       "      <td>she took my love she wore it down and it looke...</td>\n",
       "      <td>[took, love, wore, looked, good, town, ill, ok...</td>\n",
       "    </tr>\n",
       "    <tr>\n",
       "      <th>232124</th>\n",
       "      <td>Country</td>\n",
       "      <td>everybody i know is a looking for love but the...</td>\n",
       "      <td>[everybody, know, looking, love, know, give, e...</td>\n",
       "    </tr>\n",
       "    <tr>\n",
       "      <th>242655</th>\n",
       "      <td>Country</td>\n",
       "      <td>well if i had a dollar for every time you let ...</td>\n",
       "      <td>[well, dollar, every, time, let, stood, gave, ...</td>\n",
       "    </tr>\n",
       "    <tr>\n",
       "      <th>246070</th>\n",
       "      <td>Country</td>\n",
       "      <td>you got out with no bruises or scratches you b...</td>\n",
       "      <td>[got, bruises, scratches, broke, free, visible...</td>\n",
       "    </tr>\n",
       "    <tr>\n",
       "      <th>238838</th>\n",
       "      <td>Country</td>\n",
       "      <td>(chalee tennison/dale dodson/billy lawson) her...</td>\n",
       "      <td>[chalee, tennison, dale, dodson, billy, lawson...</td>\n",
       "    </tr>\n",
       "    <tr>\n",
       "      <th>...</th>\n",
       "      <td>...</td>\n",
       "      <td>...</td>\n",
       "      <td>...</td>\n",
       "    </tr>\n",
       "    <tr>\n",
       "      <th>30632</th>\n",
       "      <td>Rock</td>\n",
       "      <td>take\\ntake all you need\\nand i'll compensate y...</td>\n",
       "      <td>[take, take, need, compensate, greed, broken, ...</td>\n",
       "    </tr>\n",
       "    <tr>\n",
       "      <th>37928</th>\n",
       "      <td>Rock</td>\n",
       "      <td>what a dream i had\\npressed in organdy\\nclothe...</td>\n",
       "      <td>[dream, pressed, organdy, clothed, crinoline, ...</td>\n",
       "    </tr>\n",
       "    <tr>\n",
       "      <th>233982</th>\n",
       "      <td>Rock</td>\n",
       "      <td>this is only a test onetwo whatcha gunna do th...</td>\n",
       "      <td>[test, onetwo, whatcha, gunna, three, four, fi...</td>\n",
       "    </tr>\n",
       "    <tr>\n",
       "      <th>52404</th>\n",
       "      <td>Rock</td>\n",
       "      <td>we old ones have seen two wars\\nwhen you're si...</td>\n",
       "      <td>[old, ones, seen, two, wars, sick, afraid, dan...</td>\n",
       "    </tr>\n",
       "    <tr>\n",
       "      <th>216014</th>\n",
       "      <td>Rock</td>\n",
       "      <td>let me tell you a story\\nit's about you and me...</td>\n",
       "      <td>[let, tell, story, walked, along, narrow, road...</td>\n",
       "    </tr>\n",
       "  </tbody>\n",
       "</table>\n",
       "<p>500 rows × 3 columns</p>\n",
       "</div>"
      ],
      "text/plain": [
       "          Genre                                             Lyrics   \n",
       "245316  Country  she took my love she wore it down and it looke...  \\\n",
       "232124  Country  everybody i know is a looking for love but the...   \n",
       "242655  Country  well if i had a dollar for every time you let ...   \n",
       "246070  Country  you got out with no bruises or scratches you b...   \n",
       "238838  Country  (chalee tennison/dale dodson/billy lawson) her...   \n",
       "...         ...                                                ...   \n",
       "30632      Rock  take\\ntake all you need\\nand i'll compensate y...   \n",
       "37928      Rock  what a dream i had\\npressed in organdy\\nclothe...   \n",
       "233982     Rock  this is only a test onetwo whatcha gunna do th...   \n",
       "52404      Rock  we old ones have seen two wars\\nwhen you're si...   \n",
       "216014     Rock  let me tell you a story\\nit's about you and me...   \n",
       "\n",
       "                                                   Tokens  \n",
       "245316  [took, love, wore, looked, good, town, ill, ok...  \n",
       "232124  [everybody, know, looking, love, know, give, e...  \n",
       "242655  [well, dollar, every, time, let, stood, gave, ...  \n",
       "246070  [got, bruises, scratches, broke, free, visible...  \n",
       "238838  [chalee, tennison, dale, dodson, billy, lawson...  \n",
       "...                                                   ...  \n",
       "30632   [take, take, need, compensate, greed, broken, ...  \n",
       "37928   [dream, pressed, organdy, clothed, crinoline, ...  \n",
       "233982  [test, onetwo, whatcha, gunna, three, four, fi...  \n",
       "52404   [old, ones, seen, two, wars, sick, afraid, dan...  \n",
       "216014  [let, tell, story, walked, along, narrow, road...  \n",
       "\n",
       "[500 rows x 3 columns]"
      ]
     },
     "execution_count": 8,
     "metadata": {},
     "output_type": "execute_result"
    }
   ],
   "source": [
    "def sent_to_words(sentences):\n",
    "    for sentence in sentences:\n",
    "        yield simple_preprocess(str(sentence), deacc=True)\n",
    "\n",
    "def remove_stopwords(texts):\n",
    "    return [[word for word in simple_preprocess(str(doc)) if word not in stop_words] for doc in texts]\n",
    "\n",
    "#Apply tokenization and remove stopwords\n",
    "song_data_processed['Tokens'] = remove_stopwords(sent_to_words(song_data_processed['Lyrics']))\n",
    "song_data_processed"
   ]
  },
  {
   "cell_type": "code",
   "execution_count": 9,
   "metadata": {},
   "outputs": [
    {
     "data": {
      "text/html": [
       "<div>\n",
       "<style scoped>\n",
       "    .dataframe tbody tr th:only-of-type {\n",
       "        vertical-align: middle;\n",
       "    }\n",
       "\n",
       "    .dataframe tbody tr th {\n",
       "        vertical-align: top;\n",
       "    }\n",
       "\n",
       "    .dataframe thead th {\n",
       "        text-align: right;\n",
       "    }\n",
       "</style>\n",
       "<table border=\"1\" class=\"dataframe\">\n",
       "  <thead>\n",
       "    <tr style=\"text-align: right;\">\n",
       "      <th></th>\n",
       "      <th>Genre</th>\n",
       "      <th>Lyrics</th>\n",
       "      <th>Tokens</th>\n",
       "      <th>Topics</th>\n",
       "      <th>Dominant_Topic</th>\n",
       "    </tr>\n",
       "  </thead>\n",
       "  <tbody>\n",
       "    <tr>\n",
       "      <th>245316</th>\n",
       "      <td>Country</td>\n",
       "      <td>she took my love she wore it down and it looke...</td>\n",
       "      <td>[took, love, wore, looked, good, town, ill, ok...</td>\n",
       "      <td>[0.0016393525, 0.0016397213, 0.0016393525, 0.0...</td>\n",
       "      <td>8</td>\n",
       "    </tr>\n",
       "    <tr>\n",
       "      <th>232124</th>\n",
       "      <td>Country</td>\n",
       "      <td>everybody i know is a looking for love but the...</td>\n",
       "      <td>[everybody, know, looking, love, know, give, e...</td>\n",
       "      <td>[0.0010869848, 0.0010869848, 0.0010872736, 0.9...</td>\n",
       "      <td>3</td>\n",
       "    </tr>\n",
       "    <tr>\n",
       "      <th>242655</th>\n",
       "      <td>Country</td>\n",
       "      <td>well if i had a dollar for every time you let ...</td>\n",
       "      <td>[well, dollar, every, time, let, stood, gave, ...</td>\n",
       "      <td>[0.0007937771, 0.0007937187, 0.00079366175, 0....</td>\n",
       "      <td>4</td>\n",
       "    </tr>\n",
       "    <tr>\n",
       "      <th>246070</th>\n",
       "      <td>Country</td>\n",
       "      <td>you got out with no bruises or scratches you b...</td>\n",
       "      <td>[got, bruises, scratches, broke, free, visible...</td>\n",
       "      <td>[0.0011628651, 0.0011628103, 0.98953444, 0.001...</td>\n",
       "      <td>2</td>\n",
       "    </tr>\n",
       "    <tr>\n",
       "      <th>238838</th>\n",
       "      <td>Country</td>\n",
       "      <td>(chalee tennison/dale dodson/billy lawson) her...</td>\n",
       "      <td>[chalee, tennison, dale, dodson, billy, lawson...</td>\n",
       "      <td>[0.0013333557, 0.0013333755, 0.0013333714, 0.0...</td>\n",
       "      <td>4</td>\n",
       "    </tr>\n",
       "    <tr>\n",
       "      <th>...</th>\n",
       "      <td>...</td>\n",
       "      <td>...</td>\n",
       "      <td>...</td>\n",
       "      <td>...</td>\n",
       "      <td>...</td>\n",
       "    </tr>\n",
       "    <tr>\n",
       "      <th>30632</th>\n",
       "      <td>Rock</td>\n",
       "      <td>take\\ntake all you need\\nand i'll compensate y...</td>\n",
       "      <td>[take, take, need, compensate, greed, broken, ...</td>\n",
       "      <td>[0.0011111739, 0.0011111498, 0.0011111608, 0.0...</td>\n",
       "      <td>9</td>\n",
       "    </tr>\n",
       "    <tr>\n",
       "      <th>37928</th>\n",
       "      <td>Rock</td>\n",
       "      <td>what a dream i had\\npressed in organdy\\nclothe...</td>\n",
       "      <td>[dream, pressed, organdy, clothed, crinoline, ...</td>\n",
       "      <td>[0.0021280502, 0.0021276886, 0.9808502, 0.0021...</td>\n",
       "      <td>2</td>\n",
       "    </tr>\n",
       "    <tr>\n",
       "      <th>233982</th>\n",
       "      <td>Rock</td>\n",
       "      <td>this is only a test onetwo whatcha gunna do th...</td>\n",
       "      <td>[test, onetwo, whatcha, gunna, three, four, fi...</td>\n",
       "      <td>[0.0011905036, 0.0011905036, 0.0011905036, 0.0...</td>\n",
       "      <td>6</td>\n",
       "    </tr>\n",
       "    <tr>\n",
       "      <th>52404</th>\n",
       "      <td>Rock</td>\n",
       "      <td>we old ones have seen two wars\\nwhen you're si...</td>\n",
       "      <td>[old, ones, seen, two, wars, sick, afraid, dan...</td>\n",
       "      <td>[0.9897726, 0.0011363758, 0.0011363758, 0.0011...</td>\n",
       "      <td>0</td>\n",
       "    </tr>\n",
       "    <tr>\n",
       "      <th>216014</th>\n",
       "      <td>Rock</td>\n",
       "      <td>let me tell you a story\\nit's about you and me...</td>\n",
       "      <td>[let, tell, story, walked, along, narrow, road...</td>\n",
       "      <td>[0.0013513733, 0.0013513734, 0.0013513883, 0.0...</td>\n",
       "      <td>4</td>\n",
       "    </tr>\n",
       "  </tbody>\n",
       "</table>\n",
       "<p>500 rows × 5 columns</p>\n",
       "</div>"
      ],
      "text/plain": [
       "          Genre                                             Lyrics   \n",
       "245316  Country  she took my love she wore it down and it looke...  \\\n",
       "232124  Country  everybody i know is a looking for love but the...   \n",
       "242655  Country  well if i had a dollar for every time you let ...   \n",
       "246070  Country  you got out with no bruises or scratches you b...   \n",
       "238838  Country  (chalee tennison/dale dodson/billy lawson) her...   \n",
       "...         ...                                                ...   \n",
       "30632      Rock  take\\ntake all you need\\nand i'll compensate y...   \n",
       "37928      Rock  what a dream i had\\npressed in organdy\\nclothe...   \n",
       "233982     Rock  this is only a test onetwo whatcha gunna do th...   \n",
       "52404      Rock  we old ones have seen two wars\\nwhen you're si...   \n",
       "216014     Rock  let me tell you a story\\nit's about you and me...   \n",
       "\n",
       "                                                   Tokens   \n",
       "245316  [took, love, wore, looked, good, town, ill, ok...  \\\n",
       "232124  [everybody, know, looking, love, know, give, e...   \n",
       "242655  [well, dollar, every, time, let, stood, gave, ...   \n",
       "246070  [got, bruises, scratches, broke, free, visible...   \n",
       "238838  [chalee, tennison, dale, dodson, billy, lawson...   \n",
       "...                                                   ...   \n",
       "30632   [take, take, need, compensate, greed, broken, ...   \n",
       "37928   [dream, pressed, organdy, clothed, crinoline, ...   \n",
       "233982  [test, onetwo, whatcha, gunna, three, four, fi...   \n",
       "52404   [old, ones, seen, two, wars, sick, afraid, dan...   \n",
       "216014  [let, tell, story, walked, along, narrow, road...   \n",
       "\n",
       "                                                   Topics  Dominant_Topic  \n",
       "245316  [0.0016393525, 0.0016397213, 0.0016393525, 0.0...               8  \n",
       "232124  [0.0010869848, 0.0010869848, 0.0010872736, 0.9...               3  \n",
       "242655  [0.0007937771, 0.0007937187, 0.00079366175, 0....               4  \n",
       "246070  [0.0011628651, 0.0011628103, 0.98953444, 0.001...               2  \n",
       "238838  [0.0013333557, 0.0013333755, 0.0013333714, 0.0...               4  \n",
       "...                                                   ...             ...  \n",
       "30632   [0.0011111739, 0.0011111498, 0.0011111608, 0.0...               9  \n",
       "37928   [0.0021280502, 0.0021276886, 0.9808502, 0.0021...               2  \n",
       "233982  [0.0011905036, 0.0011905036, 0.0011905036, 0.0...               6  \n",
       "52404   [0.9897726, 0.0011363758, 0.0011363758, 0.0011...               0  \n",
       "216014  [0.0013513733, 0.0013513734, 0.0013513883, 0.0...               4  \n",
       "\n",
       "[500 rows x 5 columns]"
      ]
     },
     "execution_count": 9,
     "metadata": {},
     "output_type": "execute_result"
    }
   ],
   "source": [
    "# Create a dictionary and a corpus for each song\n",
    "corpora = []\n",
    "dictionaries = []\n",
    "lda_models = []\n",
    "topics = []\n",
    "dominant_topics = []\n",
    "\n",
    "num_topics = num_genres  # Change this to the desired number of topics\n",
    "\n",
    "for i, tokens in enumerate(song_data_processed['Tokens']):\n",
    "    # Create Dictionary\n",
    "    id2word = gensim.corpora.Dictionary([tokens])\n",
    "\n",
    "    # Create Corpus\n",
    "    corpus = [id2word.doc2bow(tokens)]\n",
    "\n",
    "    corpora.append(corpus)\n",
    "    dictionaries.append(id2word)\n",
    "\n",
    "    # Build LDA model\n",
    "    lda_model = gensim.models.LdaMulticore(corpus=corpus, id2word=id2word, num_topics=num_topics)\n",
    "    lda_models.append(lda_model)\n",
    "\n",
    "    # Get the most dominant topic for each song\n",
    "    song_topics = lda_model.get_document_topics(corpus[0], minimum_probability=0.0)\n",
    "    dominant_topic = max(song_topics, key=lambda x: x[1])[0]\n",
    "\n",
    "    song_topics = list(map(lambda x: x[1], song_topics))\n",
    "    \n",
    "    dominant_topics.append(dominant_topic)\n",
    "    topics.append(song_topics)\n",
    "\n",
    "# Add the 'topics_words' column to the DataFrame\n",
    "song_data_processed['Topics'] = topics\n",
    "song_data_processed['Dominant_Topic'] = dominant_topics\n",
    "song_data_processed"
   ]
  },
  {
   "cell_type": "markdown",
   "metadata": {},
   "source": [
    "### Explore Results"
   ]
  },
  {
   "cell_type": "markdown",
   "metadata": {},
   "source": [
    "#### Crosstab"
   ]
  },
  {
   "cell_type": "code",
   "execution_count": 10,
   "metadata": {},
   "outputs": [
    {
     "data": {
      "image/png": "[encoded data removed]",
      "text/plain": [
       "<Figure size 640x480 with 1 Axes>"
      ]
     },
     "metadata": {},
     "output_type": "display_data"
    }
   ],
   "source": [
    "# Create a crosstab\n",
    "crosstab = pd.crosstab(song_data_processed['Dominant_Topic'], song_data_processed['Genre'])\n",
    "\n",
    "# Plot the crosstab\n",
    "crosstab.plot(kind='barh', stacked=True).legend(bbox_to_anchor=(1.05, 1), loc='upper left')\n",
    "plt.xlabel('Number of Songs by Genre')\n",
    "plt.ylabel('Topic')\n",
    "plt.title('Genre Distribution for Topics')\n",
    "plt.show()"
   ]
  },
  {
   "cell_type": "markdown",
   "metadata": {},
   "source": [
    "#### Visualization (PCA) (visualizing LDA Results)"
   ]
  },
  {
   "cell_type": "code",
   "execution_count": 11,
   "metadata": {},
   "outputs": [
    {
     "data": {
      "image/png": "[encoded data removed]",
      "text/plain": [
       "<Figure size 640x480 with 1 Axes>"
      ]
     },
     "metadata": {},
     "output_type": "display_data"
    }
   ],
   "source": [
    "pca = PCA(n_components=2)\n",
    "reduced = pca.fit_transform(song_data_processed[\"Topics\"].to_list())\n",
    "#song_data_processed[\"Reduced_Topics\"] = reduced.tolist()\n",
    "song_data_processed[['Reduced_Topics_1', 'Reduced_Topics_2']] = reduced\n",
    "#Scatter Plot\n",
    "sns.scatterplot(x='Reduced_Topics_1', y='Reduced_Topics_2', hue='Genre', data=song_data_processed)\n",
    "plt.title('PCA Analysis Results')\n",
    "plt.legend(title='Category')\n",
    "plt.show()"
   ]
  },
  {
   "cell_type": "markdown",
   "metadata": {},
   "source": [
    "### Using Clustering"
   ]
  },
  {
   "cell_type": "code",
   "execution_count": 12,
   "metadata": {},
   "outputs": [
    {
     "name": "stderr",
     "output_type": "stream",
     "text": [
      "c:\\Users\\anjan\\anaconda3\\envs\\Studienarbeit\\Lib\\site-packages\\sklearn\\cluster\\_kmeans.py:870: FutureWarning: The default value of `n_init` will change from 10 to 'auto' in 1.4. Set the value of `n_init` explicitly to suppress the warning\n",
      "  warnings.warn(\n",
      "c:\\Users\\anjan\\anaconda3\\envs\\Studienarbeit\\Lib\\site-packages\\sklearn\\cluster\\_kmeans.py:1382: UserWarning: KMeans is known to have a memory leak on Windows with MKL, when there are less chunks than available threads. You can avoid it by setting the environment variable OMP_NUM_THREADS=2.\n",
      "  warnings.warn(\n"
     ]
    },
    {
     "data": {
      "text/html": [
       "<div>\n",
       "<style scoped>\n",
       "    .dataframe tbody tr th:only-of-type {\n",
       "        vertical-align: middle;\n",
       "    }\n",
       "\n",
       "    .dataframe tbody tr th {\n",
       "        vertical-align: top;\n",
       "    }\n",
       "\n",
       "    .dataframe thead th {\n",
       "        text-align: right;\n",
       "    }\n",
       "</style>\n",
       "<table border=\"1\" class=\"dataframe\">\n",
       "  <thead>\n",
       "    <tr style=\"text-align: right;\">\n",
       "      <th></th>\n",
       "      <th>Genre</th>\n",
       "      <th>Lyrics</th>\n",
       "      <th>Tokens</th>\n",
       "      <th>Topics</th>\n",
       "      <th>Dominant_Topic</th>\n",
       "      <th>Reduced_Topics_1</th>\n",
       "      <th>Reduced_Topics_2</th>\n",
       "      <th>Cluster</th>\n",
       "    </tr>\n",
       "  </thead>\n",
       "  <tbody>\n",
       "    <tr>\n",
       "      <th>245316</th>\n",
       "      <td>Country</td>\n",
       "      <td>she took my love she wore it down and it looke...</td>\n",
       "      <td>[took, love, wore, looked, good, town, ill, ok...</td>\n",
       "      <td>[0.0016393525, 0.0016397213, 0.0016393525, 0.0...</td>\n",
       "      <td>8</td>\n",
       "      <td>-0.088433</td>\n",
       "      <td>-0.178222</td>\n",
       "      <td>5</td>\n",
       "    </tr>\n",
       "    <tr>\n",
       "      <th>232124</th>\n",
       "      <td>Country</td>\n",
       "      <td>everybody i know is a looking for love but the...</td>\n",
       "      <td>[everybody, know, looking, love, know, give, e...</td>\n",
       "      <td>[0.0010869848, 0.0010869848, 0.0010872736, 0.9...</td>\n",
       "      <td>3</td>\n",
       "      <td>-0.063330</td>\n",
       "      <td>-0.177277</td>\n",
       "      <td>9</td>\n",
       "    </tr>\n",
       "    <tr>\n",
       "      <th>242655</th>\n",
       "      <td>Country</td>\n",
       "      <td>well if i had a dollar for every time you let ...</td>\n",
       "      <td>[well, dollar, every, time, let, stood, gave, ...</td>\n",
       "      <td>[0.0007937771, 0.0007937187, 0.00079366175, 0....</td>\n",
       "      <td>4</td>\n",
       "      <td>-0.035347</td>\n",
       "      <td>-0.055037</td>\n",
       "      <td>8</td>\n",
       "    </tr>\n",
       "    <tr>\n",
       "      <th>246070</th>\n",
       "      <td>Country</td>\n",
       "      <td>you got out with no bruises or scratches you b...</td>\n",
       "      <td>[got, bruises, scratches, broke, free, visible...</td>\n",
       "      <td>[0.0011628651, 0.0011628103, 0.98953444, 0.001...</td>\n",
       "      <td>2</td>\n",
       "      <td>-0.033000</td>\n",
       "      <td>-0.101102</td>\n",
       "      <td>6</td>\n",
       "    </tr>\n",
       "    <tr>\n",
       "      <th>238838</th>\n",
       "      <td>Country</td>\n",
       "      <td>(chalee tennison/dale dodson/billy lawson) her...</td>\n",
       "      <td>[chalee, tennison, dale, dodson, billy, lawson...</td>\n",
       "      <td>[0.0013333557, 0.0013333755, 0.0013333714, 0.0...</td>\n",
       "      <td>4</td>\n",
       "      <td>-0.035224</td>\n",
       "      <td>-0.054836</td>\n",
       "      <td>8</td>\n",
       "    </tr>\n",
       "    <tr>\n",
       "      <th>...</th>\n",
       "      <td>...</td>\n",
       "      <td>...</td>\n",
       "      <td>...</td>\n",
       "      <td>...</td>\n",
       "      <td>...</td>\n",
       "      <td>...</td>\n",
       "      <td>...</td>\n",
       "      <td>...</td>\n",
       "    </tr>\n",
       "    <tr>\n",
       "      <th>30632</th>\n",
       "      <td>Rock</td>\n",
       "      <td>take\\ntake all you need\\nand i'll compensate y...</td>\n",
       "      <td>[take, take, need, compensate, greed, broken, ...</td>\n",
       "      <td>[0.0011111739, 0.0011111498, 0.0011111608, 0.0...</td>\n",
       "      <td>9</td>\n",
       "      <td>-0.442860</td>\n",
       "      <td>0.794750</td>\n",
       "      <td>2</td>\n",
       "    </tr>\n",
       "    <tr>\n",
       "      <th>37928</th>\n",
       "      <td>Rock</td>\n",
       "      <td>what a dream i had\\npressed in organdy\\nclothe...</td>\n",
       "      <td>[dream, pressed, organdy, clothed, crinoline, ...</td>\n",
       "      <td>[0.0021280502, 0.0021276886, 0.9808502, 0.0021...</td>\n",
       "      <td>2</td>\n",
       "      <td>-0.032803</td>\n",
       "      <td>-0.100292</td>\n",
       "      <td>6</td>\n",
       "    </tr>\n",
       "    <tr>\n",
       "      <th>233982</th>\n",
       "      <td>Rock</td>\n",
       "      <td>this is only a test onetwo whatcha gunna do th...</td>\n",
       "      <td>[test, onetwo, whatcha, gunna, three, four, fi...</td>\n",
       "      <td>[0.0011905036, 0.0011905036, 0.0011905036, 0.0...</td>\n",
       "      <td>6</td>\n",
       "      <td>-0.066881</td>\n",
       "      <td>-0.094463</td>\n",
       "      <td>3</td>\n",
       "    </tr>\n",
       "    <tr>\n",
       "      <th>52404</th>\n",
       "      <td>Rock</td>\n",
       "      <td>we old ones have seen two wars\\nwhen you're si...</td>\n",
       "      <td>[old, ones, seen, two, wars, sick, afraid, dan...</td>\n",
       "      <td>[0.9897726, 0.0011363758, 0.0011363758, 0.0011...</td>\n",
       "      <td>0</td>\n",
       "      <td>0.859306</td>\n",
       "      <td>0.287566</td>\n",
       "      <td>1</td>\n",
       "    </tr>\n",
       "    <tr>\n",
       "      <th>216014</th>\n",
       "      <td>Rock</td>\n",
       "      <td>let me tell you a story\\nit's about you and me...</td>\n",
       "      <td>[let, tell, story, walked, along, narrow, road...</td>\n",
       "      <td>[0.0013513733, 0.0013513734, 0.0013513883, 0.0...</td>\n",
       "      <td>4</td>\n",
       "      <td>-0.035220</td>\n",
       "      <td>-0.054829</td>\n",
       "      <td>8</td>\n",
       "    </tr>\n",
       "  </tbody>\n",
       "</table>\n",
       "<p>500 rows × 8 columns</p>\n",
       "</div>"
      ],
      "text/plain": [
       "          Genre                                             Lyrics   \n",
       "245316  Country  she took my love she wore it down and it looke...  \\\n",
       "232124  Country  everybody i know is a looking for love but the...   \n",
       "242655  Country  well if i had a dollar for every time you let ...   \n",
       "246070  Country  you got out with no bruises or scratches you b...   \n",
       "238838  Country  (chalee tennison/dale dodson/billy lawson) her...   \n",
       "...         ...                                                ...   \n",
       "30632      Rock  take\\ntake all you need\\nand i'll compensate y...   \n",
       "37928      Rock  what a dream i had\\npressed in organdy\\nclothe...   \n",
       "233982     Rock  this is only a test onetwo whatcha gunna do th...   \n",
       "52404      Rock  we old ones have seen two wars\\nwhen you're si...   \n",
       "216014     Rock  let me tell you a story\\nit's about you and me...   \n",
       "\n",
       "                                                   Tokens   \n",
       "245316  [took, love, wore, looked, good, town, ill, ok...  \\\n",
       "232124  [everybody, know, looking, love, know, give, e...   \n",
       "242655  [well, dollar, every, time, let, stood, gave, ...   \n",
       "246070  [got, bruises, scratches, broke, free, visible...   \n",
       "238838  [chalee, tennison, dale, dodson, billy, lawson...   \n",
       "...                                                   ...   \n",
       "30632   [take, take, need, compensate, greed, broken, ...   \n",
       "37928   [dream, pressed, organdy, clothed, crinoline, ...   \n",
       "233982  [test, onetwo, whatcha, gunna, three, four, fi...   \n",
       "52404   [old, ones, seen, two, wars, sick, afraid, dan...   \n",
       "216014  [let, tell, story, walked, along, narrow, road...   \n",
       "\n",
       "                                                   Topics  Dominant_Topic   \n",
       "245316  [0.0016393525, 0.0016397213, 0.0016393525, 0.0...               8  \\\n",
       "232124  [0.0010869848, 0.0010869848, 0.0010872736, 0.9...               3   \n",
       "242655  [0.0007937771, 0.0007937187, 0.00079366175, 0....               4   \n",
       "246070  [0.0011628651, 0.0011628103, 0.98953444, 0.001...               2   \n",
       "238838  [0.0013333557, 0.0013333755, 0.0013333714, 0.0...               4   \n",
       "...                                                   ...             ...   \n",
       "30632   [0.0011111739, 0.0011111498, 0.0011111608, 0.0...               9   \n",
       "37928   [0.0021280502, 0.0021276886, 0.9808502, 0.0021...               2   \n",
       "233982  [0.0011905036, 0.0011905036, 0.0011905036, 0.0...               6   \n",
       "52404   [0.9897726, 0.0011363758, 0.0011363758, 0.0011...               0   \n",
       "216014  [0.0013513733, 0.0013513734, 0.0013513883, 0.0...               4   \n",
       "\n",
       "        Reduced_Topics_1  Reduced_Topics_2  Cluster  \n",
       "245316         -0.088433         -0.178222        5  \n",
       "232124         -0.063330         -0.177277        9  \n",
       "242655         -0.035347         -0.055037        8  \n",
       "246070         -0.033000         -0.101102        6  \n",
       "238838         -0.035224         -0.054836        8  \n",
       "...                  ...               ...      ...  \n",
       "30632          -0.442860          0.794750        2  \n",
       "37928          -0.032803         -0.100292        6  \n",
       "233982         -0.066881         -0.094463        3  \n",
       "52404           0.859306          0.287566        1  \n",
       "216014         -0.035220         -0.054829        8  \n",
       "\n",
       "[500 rows x 8 columns]"
      ]
     },
     "execution_count": 12,
     "metadata": {},
     "output_type": "execute_result"
    }
   ],
   "source": [
    "kmeans = KMeans(n_clusters=num_genres, random_state=0).fit(song_data_processed[\"Topics\"].tolist())\n",
    "song_data_processed[\"Cluster\"] = kmeans.labels_\n",
    "song_data_processed"
   ]
  },
  {
   "cell_type": "code",
   "execution_count": 13,
   "metadata": {},
   "outputs": [
    {
     "data": {
      "image/png": "[encoded data removed]",
      "text/plain": [
       "<Figure size 640x480 with 1 Axes>"
      ]
     },
     "metadata": {},
     "output_type": "display_data"
    }
   ],
   "source": [
    "# Create a crosstab\n",
    "crosstab = pd.crosstab(song_data_processed['Cluster'], song_data_processed['Genre'])\n",
    "\n",
    "# Plot the crosstab\n",
    "crosstab.plot(kind='barh', stacked=True).legend(bbox_to_anchor=(1.05, 1), loc='upper left')\n",
    "plt.xlabel('Number of Songs by Genre')\n",
    "plt.ylabel('Cluster')\n",
    "plt.title('Genre Distribution for Topics')\n",
    "plt.show()"
   ]
  },
  {
   "cell_type": "code",
   "execution_count": 14,
   "metadata": {},
   "outputs": [
    {
     "data": {
      "image/png": "[encoded data removed]",
      "text/plain": [
       "<Figure size 640x480 with 1 Axes>"
      ]
     },
     "metadata": {},
     "output_type": "display_data"
    }
   ],
   "source": [
    "#Scatter Plot\n",
    "sns.scatterplot(x='Reduced_Topics_1', y='Reduced_Topics_2', hue='Cluster', data=song_data_processed)\n",
    "plt.title('PCA Analysis Results')\n",
    "plt.legend(title='Category')\n",
    "plt.show()"
   ]
  },
  {
   "cell_type": "markdown",
   "metadata": {},
   "source": [
    "### Trying to predict the genre based on the topic vector"
   ]
  },
  {
   "cell_type": "code",
   "execution_count": 15,
   "metadata": {},
   "outputs": [],
   "source": [
    "X = song_data_processed[\"Topics\"].tolist()\n",
    "label_encoder = LabelEncoder()\n",
    "song_data_processed[\"GenreID\"] = label_encoder.fit_transform(song_data_processed[\"Genre\"])\n",
    "y = song_data_processed[\"GenreID\"]\n",
    "X_train, X_test, y_train, y_test = train_test_split(X, y, test_size=0.3, random_state=42)\n"
   ]
  },
  {
   "cell_type": "code",
   "execution_count": 16,
   "metadata": {},
   "outputs": [
    {
     "data": {
      "text/plain": [
       "0.1"
      ]
     },
     "execution_count": 16,
     "metadata": {},
     "output_type": "execute_result"
    }
   ],
   "source": [
    "#K-nearest neighbors\n",
    "neigh = KNeighborsClassifier(n_neighbors=5)\n",
    "neigh.fit(X_train, y_train)\n",
    "neigh.score(X_test, y_test)"
   ]
  },
  {
   "cell_type": "code",
   "execution_count": 17,
   "metadata": {},
   "outputs": [
    {
     "data": {
      "text/plain": [
       "0.12"
      ]
     },
     "execution_count": 17,
     "metadata": {},
     "output_type": "execute_result"
    }
   ],
   "source": [
    "#svm classifier\n",
    "svc = SVC(kernel=\"rbf\")\n",
    "svc.fit(X_train, y_train)\n",
    "svc.score(X_test, y_test)"
   ]
  },
  {
   "cell_type": "code",
   "execution_count": 18,
   "metadata": {},
   "outputs": [
    {
     "data": {
      "text/plain": [
       "0.14"
      ]
     },
     "execution_count": 18,
     "metadata": {},
     "output_type": "execute_result"
    }
   ],
   "source": [
    "#Random forest\n",
    "rf = RandomForestClassifier()\n",
    "rf.fit(X_train, y_train)\n",
    "rf.score(X_test, y_test)"
   ]
  },
  {
   "cell_type": "markdown",
   "metadata": {},
   "source": [
    "### Was hier gemacht wurde:\n",
    "- Nehmen eines song subsets mit jeweils n songs aus jedem der m genres\n",
    "- Bereinigen der Lyrics mit verschiedenen Preprocessing methoden (Best Practice)\n",
    "- Using LDA to get most important topic for each song\n",
    "- Investigating whether there is a correlation between the topics and the song genres, using crosstabs and, PCA-Scatterplots and Clustering\n",
    "- Investigating whether it is possible to predict a genre based on its most prominent topics \n",
    "\n",
    "### Ergebnis\n",
    "- Keine offensichtliche Korrelation zwischen genres und Topics in allen Untersuchungen\n",
    "\n",
    "### Vermutung\n",
    "Fehler bei der Implementierung. In diesem Notebook wurde für jedes Lied ein eigenes LDA Model trainiert. Deshalb sind die Ergebnisse nicht vergleichbar. Ein zielführenderer Ansatz wäre es, ein Modell zunächst auf der gesamten Song Basis zu trainieren und anschließend die Topic vektoren der Einzelnen Songs aus diesem Modell zu generieren."
   ]
  }
 ],
 "metadata": {
  "kernelspec": {
   "display_name": "DataScience",
   "language": "python",
   "name": "python3"
  },
  "language_info": {
   "codemirror_mode": {
    "name": "ipython",
    "version": 3
   },
   "file_extension": ".py",
   "mimetype": "text/x-python",
   "name": "python",
   "nbconvert_exporter": "python",
   "pygments_lexer": "ipython3",
   "version": "3.11.5"
  }
 },
 "nbformat": 4,
 "nbformat_minor": 2
}
